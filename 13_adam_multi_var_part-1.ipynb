{
 "cells": [
  {
   "cell_type": "code",
   "execution_count": 1,
   "metadata": {},
   "outputs": [],
   "source": [
    "#!/usr/bin/env python\n",
    "# -*- coding: utf-8 -*-"
   ]
  },
  {
   "cell_type": "markdown",
   "metadata": {},
   "source": [
    "# Machine Learning \n",
    "\n",
    "## Adam Demo\n",
    "\n",
    "<img src='../../images/adam_algorithm.jpg' style='width: 800px' alt=\"Adam Algorithm\" />"
   ]
  },
  {
   "cell_type": "code",
   "execution_count": 2,
   "metadata": {},
   "outputs": [],
   "source": [
    "# Lets import some libraries\n",
    "import numpy as np\n",
    "\n",
    "import pandas as pd\n",
    "\n",
    "import matplotlib.pyplot as plt\n",
    "\n",
    "from mpl_toolkits.mplot3d import Axes3D"
   ]
  },
  {
   "cell_type": "code",
   "execution_count": 3,
   "metadata": {},
   "outputs": [],
   "source": [
    "# Some basic parameters\n",
    "\n",
    "inpDir = './'\n",
    "\n",
    "outDir = './'\n",
    "\n",
    "RANDOM_STATE = 24 \n",
    "\n",
    "# Parameters for plotting\n",
    "params = {'legend.fontsize': 'x-large',\n",
    "          'figure.figsize': (15, 8),\n",
    "          'axes.labelsize': 'x-large',\n",
    "          'axes.titlesize':'x-large',\n",
    "          'xtick.labelsize':'x-large',\n",
    "          'ytick.labelsize':'x-large',\n",
    "          #'text.usetex':True,\n",
    "          #'text.latex.unicode':True\n",
    "         }\n",
    "\n",
    "plt.rcParams.update(params)"
   ]
  },
  {
   "cell_type": "code",
   "execution_count": 4,
   "metadata": {},
   "outputs": [],
   "source": [
    "# Take any function of second order\n",
    "def fn_sin(x, y):\n",
    "    return 2* np.square(x) + 2 * np.sin(np.pi*x) + 2* np.square(y) + 4 * np.sin(np.pi*y)\n",
    "\n",
    "\n",
    "# Calculate the gradient\n",
    "def grad_fn_sin(x, y):\n",
    "    return np.asarray([4 * x + 2 *np.pi* np.cos(np.pi*x), 4 * y + 4 * np.pi *np.cos(np.pi*y)])"
   ]
  },
  {
   "cell_type": "code",
   "execution_count": 5,
   "metadata": {},
   "outputs": [],
   "source": [
    "# Take any function of second order\n",
    "def fn_cos(x, y):\n",
    "    return 2* np.square(x) + 2 * np.cos(np.pi*x) + 2* np.square(y) + 4 * np.cos(np.pi*y)\n",
    "\n",
    "\n",
    "# Calculate the gradient\n",
    "def grad_fn_cos(x, y):\n",
    "    return np.asarray([4 * x - 2 *np.pi* np.sin(np.pi*x), 4 * y - 4 * np.pi *np.sin(np.pi*y)])\n"
   ]
  },
  {
   "cell_type": "code",
   "execution_count": 6,
   "metadata": {},
   "outputs": [],
   "source": [
    "def adam(x, func, grad_func, bounds, max_iter, alpha = 0.01, beta1=0.9, beta2=0.999, eps=1e-8):\n",
    "    \n",
    "    # Gradient descent algorithm with adam    \n",
    "    \n",
    "    return costs, theta"
   ]
  },
  {
   "cell_type": "code",
   "execution_count": 7,
   "metadata": {},
   "outputs": [],
   "source": [
    "def fn_plot_base(bound, func, fig):\n",
    "\n",
    "    # sample input range uniformly at 0.1 increments\n",
    "    xaxis = np.arange(bounds[0,0], bounds[0,1], 0.01)\n",
    "    yaxis = np.arange(bounds[1,0], bounds[1,1], 0.01)\n",
    "\n",
    "\n",
    "    # create a mesh from the axis\n",
    "    x, y = np.meshgrid(xaxis, yaxis)\n",
    "\n",
    "    # compute targets\n",
    "    results = func(x, y)\n",
    "    \n",
    "    #===============\n",
    "    #  First subplot\n",
    "    #===============\n",
    "    # set up the axes for the first plot\n",
    "    ax = fig.add_subplot(1, 2, 1, projection='3d')\n",
    "\n",
    "    # create a surface plot with the jet color scheme\n",
    "    ax.plot_surface(x, y, results, cmap='jet', zorder=0)\n",
    "    \n",
    "    #===============\n",
    "    #  Second subplot\n",
    "    #===============\n",
    "    # set up the axes for the first plot\n",
    "    ax = fig.add_subplot(1, 2, 2)\n",
    "    \n",
    "    # create a filled contour plot with 50 levels and jet color scheme\n",
    "    ax.contourf(x, y, results, levels=50, cmap='jet', zorder=0)"
   ]
  },
  {
   "cell_type": "code",
   "execution_count": 8,
   "metadata": {},
   "outputs": [],
   "source": [
    "def fn_plot_results(axes, score, line):\n",
    "    offset = 0.02\n",
    "    \n",
    "    xyz_line = np.hstack((np.asarray(line), np.asarray(score).reshape(-1,1) ))\n",
    "    \n",
    "    axes[0].plot(xyz_line[:,0], xyz_line[:,1], xyz_line[:,2], '-',\n",
    "                 linewidth = 1, color='w', zorder=5, alpha = 0.9)\n",
    "    \n",
    "\n",
    "    # plot the line bwing tracked\n",
    "    axes[1].plot(xyz_line[:, 0], xyz_line[:, 1], \n",
    "                 '.-', color='w', zorder=10)\n",
    "\n",
    "    # next plot starting point and its text\n",
    "    axes[1].scatter(xyz_line[0, 0], xyz_line[0, 1], \n",
    "                    s=80, c='k', marker=(5, 2), zorder=20)\n",
    "    \n",
    "    axes[1].text(xyz_line[0, 0] + offset , xyz_line[0, 1] + offset, \n",
    "                 '({:.1f},{:.1f})'.format(xyz_line[0, 0], xyz_line[0, 1]),\n",
    "                 fontsize=10, zorder=20)\n",
    "    \n",
    "    # plot end point\n",
    "    axes[1].scatter(xyz_line[-1, 0], xyz_line[-1, 1], s=80, c='r', marker=(5, 2), zorder=20)\n",
    "    #axes[1].text(xyz_line[-1, 0] + 0.05, xyz_line[-1, 1] + 0.05, '({:.2f},{:.2f})'.format(xyz_line[0, 0], xyz_line[0, 1]), fontsize=15, zorder=20)\n"
   ]
  }
 ],
 "metadata": {
  "kernelspec": {
   "display_name": "Python 3 (ipykernel)",
   "language": "python",
   "name": "python3"
  },
  "language_info": {
   "codemirror_mode": {
    "name": "ipython",
    "version": 3
   },
   "file_extension": ".py",
   "mimetype": "text/x-python",
   "name": "python",
   "nbconvert_exporter": "python",
   "pygments_lexer": "ipython3",
   "version": "3.11.3"
  }
 },
 "nbformat": 4,
 "nbformat_minor": 4
}
