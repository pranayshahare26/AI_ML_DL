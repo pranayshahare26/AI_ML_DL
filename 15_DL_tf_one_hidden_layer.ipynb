{
 "cells": [
  {
   "cell_type": "code",
   "execution_count": 36,
   "metadata": {},
   "outputs": [],
   "source": [
    "#!/usr/bin/env python\n",
    "# -*- coding: utf-8 -*-"
   ]
  },
  {
   "cell_type": "markdown",
   "metadata": {},
   "source": [
    "# Deep Neural Networks \n",
    "\n",
    "## Working with Tensorflow \n",
    "- One hidden layer\n",
    "- Make_moon"
   ]
  },
  {
   "cell_type": "code",
   "execution_count": 37,
   "metadata": {},
   "outputs": [],
   "source": [
    "# Lets import some libraries\n",
    "import os\n",
    "\n",
    "import numpy as np\n",
    "\n",
    "import pandas as pd\n",
    "\n",
    "import matplotlib.pyplot as plt\n",
    "\n",
    "from sklearn import datasets\n",
    "\n",
    "from sklearn.model_selection import train_test_split\n",
    "\n",
    "from sklearn.metrics import accuracy_score, confusion_matrix, classification_report, ConfusionMatrixDisplay\n",
    "\n",
    "from sklearn.preprocessing import StandardScaler\n",
    "\n",
    "import tensorflow as tf\n",
    "\n",
    "%matplotlib inline"
   ]
  },
  {
   "cell_type": "code",
   "execution_count": 38,
   "metadata": {},
   "outputs": [],
   "source": [
    "# Some basic parameters\n",
    "\n",
    "inpDir = './' # location where input data is stored\n",
    "outDir = './' # location to store outputs\n",
    "modelDir = './'\n",
    "subDir = 'make_moon'\n",
    "\n",
    "RANDOM_STATE = 24 # for initialization ----- REMEMBER: to remove at the time of promotion to production\n",
    "\n",
    "np.random.seed(RANDOM_STATE) # Set Random Seed for reproducible  results\n",
    "tf.random.set_seed(RANDOM_STATE) # setting for Tensorflow as well\n",
    "\n",
    "\n",
    "EPOCHS = 100 # number of epochs\n",
    "ALPHA = 0.01 # learning rate\n",
    "\n",
    "#BATCH_SIZE = 256 \n",
    "NUM_SAMPLE = 1280\n",
    "NOISE = 0.2\n",
    "TEST_SIZE = 0.2\n",
    "\n",
    "# Set parameters for decoration of plots\n",
    "params = {'legend.fontsize' : 'large',\n",
    "          'figure.figsize'  : (15,15),\n",
    "          'axes.labelsize'  : 'x-large',\n",
    "          'axes.titlesize'  :'x-large',\n",
    "          'xtick.labelsize' :'large',\n",
    "          'ytick.labelsize' :'large',\n",
    "         }\n",
    "\n",
    "CMAP = plt.cm.brg\n",
    "\n",
    "plt.rcParams.update(params) # update rcParams"
   ]
  },
  {
   "cell_type": "markdown",
   "metadata": {},
   "source": [
    "### Settings so that Tensorflow can not Hog all the GPU memory"
   ]
  },
  {
   "cell_type": "code",
   "execution_count": 39,
   "metadata": {},
   "outputs": [],
   "source": [
    "physical_devices = tf.config.list_physical_devices('GPU') \n",
    "\n",
    "if len(physical_devices) > 0:\n",
    "    tf.config.experimental.set_memory_growth(physical_devices[0], True)"
   ]
  },
  {
   "cell_type": "markdown",
   "metadata": {},
   "source": [
    "## Load make_moon"
   ]
  },
  {
   "cell_type": "code",
   "execution_count": 40,
   "metadata": {},
   "outputs": [
    {
     "data": {
      "text/plain": [
       "((1280, 2), (1280,))"
      ]
     },
     "execution_count": 40,
     "metadata": {},
     "output_type": "execute_result"
    }
   ],
   "source": [
    "X, y = datasets.make_moons(n_samples=NUM_SAMPLE, noise=NOISE, random_state=RANDOM_STATE)\n",
    "X.shape, y.shape"
   ]
  },
  {
   "cell_type": "code",
   "execution_count": 41,
   "metadata": {},
   "outputs": [
    {
     "name": "stdout",
     "output_type": "stream",
     "text": [
      "(1024, 2) (1024,) (256, 2) (256,)\n"
     ]
    }
   ],
   "source": [
    "#  Split the data in training and test sets to measure performance of the model.\n",
    "X_train, X_test, y_train, y_test = train_test_split(X, y, \n",
    "                                                    test_size=TEST_SIZE,\n",
    "                                                    stratify=y,\n",
    "                                                    random_state=RANDOM_STATE )\n",
    "\n",
    "print (X_train.shape, y_train.shape, X_test.shape, y_test.shape)"
   ]
  },
  {
   "cell_type": "code",
   "execution_count": 42,
   "metadata": {},
   "outputs": [],
   "source": [
    "sc = StandardScaler()\n",
    "\n",
    "X_train = sc.fit_transform(X_train)\n",
    "\n",
    "X_test = sc.transform(X_test)"
   ]
  },
  {
   "cell_type": "code",
   "execution_count": 43,
   "metadata": {},
   "outputs": [
    {
     "data": {
      "text/plain": [
       "(1024, 2)"
      ]
     },
     "execution_count": 43,
     "metadata": {},
     "output_type": "execute_result"
    }
   ],
   "source": [
    "X_train.shape"
   ]
  },
  {
   "cell_type": "markdown",
   "metadata": {},
   "source": [
    "## Prepare model\n",
    "\n",
    "Build the `tf.keras.Sequential` model by stacking layers from `tf.keras.layers.Dense`. Activations can be given as string or from `tf.keras.activations.tanh` "
   ]
  },
  {
   "cell_type": "code",
   "execution_count": 44,
   "metadata": {},
   "outputs": [],
   "source": [
    "# Define Model Calling class Sequential and pass all layers as a list\n",
    "model = tf.keras.Sequential([ \n",
    "                             \n",
    "    tf.keras.layers.Dense(4, activation='tanh'),\n",
    "    \n",
    "    tf.keras.layers.Dense(2)\n",
    "])"
   ]
  },
  {
   "cell_type": "markdown",
   "metadata": {},
   "source": [
    "## Reference\n",
    "<p style=\"font-family: Arial; font-size:1.2em;color:black;\">\n",
    "Details of <a href = \"https://www.tensorflow.org/api_docs/python/tf/keras/Sequential\">Sequential Model</a>. Sequential provides training and predict features on this model.\n",
    "</p>"
   ]
  },
  {
   "cell_type": "markdown",
   "metadata": {},
   "source": [
    "### Functional API\n",
    "\n",
    "<p style=\"font-family: Arial; font-size:1.2em;color:black;\">You can also instantiate a Model with the <strong>\"Functional API\"</strong>, where you start from Input, you chain layer calls to specify the model's forward pass, and finally you create your model from inputs and outputs:\n",
    "\n",
    ">import tensorflow as tf\n",
    "\n",
    ">inputs = tf.keras.Input(shape=(2,))\n",
    "    \n",
    ">x = tf.keras.layers.Dense(4, activation=tf.nn.relu)(inputs)\n",
    "\n",
    ">outputs = tf.keras.layers.Dense(2, activation=tf.nn.softmax)(x)\n",
    "\n",
    ">model = tf.keras.Model(inputs=inputs, outputs=outputs)\n",
    "\n",
    "    \n",
    "<p style=\"font-family: Arial; font-size:1.2em;color:black;\">You can also extend the model class, if love to live by sword!!\n",
    "</p>"
   ]
  },
  {
   "cell_type": "markdown",
   "metadata": {},
   "source": [
    "<p style=\"font-family: Arial; font-size:1.2em;color:black;\">\n",
    "    For each example the model returns a vector of \"logits\" or \"log-odds\" scores, one for each class.\n",
    "</p>"
   ]
  },
  {
   "cell_type": "markdown",
   "metadata": {},
   "source": [
    "<p style=\"font-family: Arial; font-size:1.2em;color:black;\">\n",
    "    <b>Unit Test</b>: Predict using untrained model.\n",
    "</p>"
   ]
  },
  {
   "cell_type": "code",
   "execution_count": 45,
   "metadata": {},
   "outputs": [
    {
     "data": {
      "text/plain": [
       "<tf.Tensor: shape=(1, 2), dtype=float32, numpy=array([[-1.0997471 , -0.51884216]], dtype=float32)>"
      ]
     },
     "execution_count": 45,
     "metadata": {},
     "output_type": "execute_result"
    }
   ],
   "source": [
    "y_pred= model(X_train[:1])\n",
    "y_pred"
   ]
  },
  {
   "cell_type": "code",
   "execution_count": 46,
   "metadata": {},
   "outputs": [
    {
     "data": {
      "text/plain": [
       "<tf.Tensor: shape=(1, 2), dtype=float32, numpy=array([[0.3587244, 0.6412756]], dtype=float32)>"
      ]
     },
     "execution_count": 46,
     "metadata": {},
     "output_type": "execute_result"
    }
   ],
   "source": [
    "tf.nn.softmax(y_pred)"
   ]
  },
  {
   "cell_type": "markdown",
   "metadata": {},
   "source": [
    "The `tf.nn.softmax` function converts these logits to \"probabilities\" for each class: "
   ]
  },
  {
   "cell_type": "code",
   "execution_count": null,
   "metadata": {},
   "outputs": [],
   "source": []
  },
  {
   "cell_type": "code",
   "execution_count": null,
   "metadata": {},
   "outputs": [],
   "source": []
  },
  {
   "cell_type": "code",
   "execution_count": 47,
   "metadata": {},
   "outputs": [
    {
     "name": "stdout",
     "output_type": "stream",
     "text": [
      "Model: \"sequential_2\"\n",
      "_________________________________________________________________\n",
      " Layer (type)                Output Shape              Param #   \n",
      "=================================================================\n",
      " dense_4 (Dense)             (1, 4)                    12        \n",
      "                                                                 \n",
      " dense_5 (Dense)             (1, 2)                    10        \n",
      "                                                                 \n",
      "=================================================================\n",
      "Total params: 22 (88.00 Byte)\n",
      "Trainable params: 22 (88.00 Byte)\n",
      "Non-trainable params: 0 (0.00 Byte)\n",
      "_________________________________________________________________\n"
     ]
    }
   ],
   "source": [
    "'''\n",
    "Number of parameters:\n",
    "    layer 1 : 2*4 +4 = 12 \n",
    "    layer 2 : 4*4 + 2 = 10\n",
    "We are not locking any layer hence all parameter are trainable    \n",
    "'''\n",
    "\n",
    "model.summary()"
   ]
  },
  {
   "cell_type": "markdown",
   "metadata": {},
   "source": [
    "## Game Changer\n",
    "\n",
    "`Softmax` function is prone to two issues: overflow and underflow.\n",
    "\n",
    "- <b>Overflow</b> occurs when very large numbers are being fed.\n",
    "- <b>Underflow</b> occurs when very small numbers (near zero) are being fed.\n",
    "\n",
    "There are work arounds too, but, TF has its own approach.<br>\n",
    "    \n",
    "Intuition being that every system (32 / 64 bit precision) has limits in terms of largest or smallest value it can accurately process.\n",
    "\n",
    "It also leads to the vanishing gradient in exponential functions. As you go higher/lower it  will overflow and the gradient will be `zero` irrespective of actually it being a `non-zero`.\n",
    "\n",
    "## Lose Function\n",
    "\n",
    "Our loss function is crossentropy as there are two or more label classes. The labels are provided using one-hot representation. We will use CategoricalCrossentropy loss. \n",
    "    \n",
    ">y_true = [ 0, 2 ] <b>Sparse Representation</b><br>\n",
    ">y_true = [ [1      0    0], [ 0    0   1 ] <b>Dense Representation</b><br>\n",
    ">y_pred = [ [0.05, 0.95, 0], [0.1, 0.1, 0.8] ]\n",
    "\n",
    "\n",
    "In case, you have not one-hot-encoded use `losses.SparseCategoricalCrossentropy`. It takes a vector of logits and a `True` index and returns a scalar loss for each example."
   ]
  },
  {
   "cell_type": "code",
   "execution_count": 48,
   "metadata": {},
   "outputs": [
    {
     "data": {
      "text/plain": [
       "1.7976931348623157e+308"
      ]
     },
     "execution_count": 48,
     "metadata": {},
     "output_type": "execute_result"
    }
   ],
   "source": [
    "import sys\n",
    "\n",
    "sys.float_info.max"
   ]
  },
  {
   "cell_type": "code",
   "execution_count": 49,
   "metadata": {},
   "outputs": [
    {
     "data": {
      "text/plain": [
       "2.2250738585072014e-308"
      ]
     },
     "execution_count": 49,
     "metadata": {},
     "output_type": "execute_result"
    }
   ],
   "source": [
    "sys.float_info.min"
   ]
  },
  {
   "cell_type": "code",
   "execution_count": 50,
   "metadata": {},
   "outputs": [
    {
     "data": {
      "text/plain": [
       "709.782712893384"
      ]
     },
     "execution_count": 50,
     "metadata": {},
     "output_type": "execute_result"
    }
   ],
   "source": [
    "np.log(sys.float_info.max)"
   ]
  },
  {
   "cell_type": "code",
   "execution_count": 51,
   "metadata": {},
   "outputs": [],
   "source": [
    "loss_fn = tf.keras.losses.SparseCategoricalCrossentropy ( from_logits = True)"
   ]
  },
  {
   "cell_type": "code",
   "execution_count": 52,
   "metadata": {},
   "outputs": [
    {
     "data": {
      "text/plain": [
       "array([0], dtype=int64)"
      ]
     },
     "execution_count": 52,
     "metadata": {},
     "output_type": "execute_result"
    }
   ],
   "source": [
    "y_train[:1]"
   ]
  },
  {
   "cell_type": "code",
   "execution_count": 53,
   "metadata": {},
   "outputs": [
    {
     "data": {
      "text/plain": [
       "1.0252008"
      ]
     },
     "execution_count": 53,
     "metadata": {},
     "output_type": "execute_result"
    }
   ],
   "source": [
    "loss_fn(y_train[:1], y_pred).numpy()"
   ]
  },
  {
   "cell_type": "markdown",
   "metadata": {},
   "source": [
    "## Compile model\n",
    "Using `model.compile`, specify the training configuration such as:\n",
    "- Loss function to minimize\n",
    "- Optimizer `'SGD'`\n",
    "- List of metrics to monitor `'accuracy'`"
   ]
  },
  {
   "cell_type": "code",
   "execution_count": 54,
   "metadata": {},
   "outputs": [],
   "source": [
    "model.compile(optimizer= 'SGD',\n",
    "loss= loss_fn,\n",
    "metrics= ['accuracy'])"
   ]
  },
  {
   "cell_type": "markdown",
   "metadata": {},
   "source": [
    "## pass model\n",
    "Call `fit(X, y, validation_data=[X_test, y_test], epochs=EPOCHS)` , which will train the model, and repeatedly iterating over the entire dataset for a given number of `epochs`. Pass some validation for monitoring validation loss and metrics at the end of each epoch."
   ]
  },
  {
   "cell_type": "code",
   "execution_count": 55,
   "metadata": {
    "scrolled": true
   },
   "outputs": [
    {
     "name": "stdout",
     "output_type": "stream",
     "text": [
      "Epoch 1/100\n",
      "32/32 [==============================] - 1s 9ms/step - loss: 0.7166 - accuracy: 0.5674 - val_loss: 0.6313 - val_accuracy: 0.7344\n",
      "Epoch 2/100\n",
      "32/32 [==============================] - 0s 3ms/step - loss: 0.5909 - accuracy: 0.7676 - val_loss: 0.5253 - val_accuracy: 0.8438\n",
      "Epoch 3/100\n",
      "20/32 [=================>............] - ETA: 0s - loss: 0.5311 - accuracy: 0.8188"
     ]
    },
    {
     "name": "stdout",
     "output_type": "stream",
     "text": [
      "32/32 [==============================] - 0s 5ms/step - loss: 0.5137 - accuracy: 0.8369 - val_loss: 0.4580 - val_accuracy: 0.8789\n",
      "Epoch 4/100\n",
      "32/32 [==============================] - 0s 5ms/step - loss: 0.4651 - accuracy: 0.8555 - val_loss: 0.4138 - val_accuracy: 0.8945\n",
      "Epoch 5/100\n",
      "32/32 [==============================] - 0s 4ms/step - loss: 0.4334 - accuracy: 0.8633 - val_loss: 0.3833 - val_accuracy: 0.9023\n",
      "Epoch 6/100\n",
      "32/32 [==============================] - 0s 4ms/step - loss: 0.4116 - accuracy: 0.8652 - val_loss: 0.3613 - val_accuracy: 0.9062\n",
      "Epoch 7/100\n",
      "32/32 [==============================] - 0s 4ms/step - loss: 0.3962 - accuracy: 0.8633 - val_loss: 0.3451 - val_accuracy: 0.9062\n",
      "Epoch 8/100\n",
      "32/32 [==============================] - 0s 4ms/step - loss: 0.3847 - accuracy: 0.8633 - val_loss: 0.3324 - val_accuracy: 0.9023\n",
      "Epoch 9/100\n",
      "32/32 [==============================] - 0s 3ms/step - loss: 0.3760 - accuracy: 0.8613 - val_loss: 0.3225 - val_accuracy: 0.8945\n",
      "Epoch 10/100\n",
      "32/32 [==============================] - 0s 4ms/step - loss: 0.3692 - accuracy: 0.8633 - val_loss: 0.3144 - val_accuracy: 0.8945\n",
      "Epoch 11/100\n",
      "32/32 [==============================] - 0s 4ms/step - loss: 0.3637 - accuracy: 0.8623 - val_loss: 0.3077 - val_accuracy: 0.8945\n",
      "Epoch 12/100\n",
      "32/32 [==============================] - 0s 5ms/step - loss: 0.3592 - accuracy: 0.8623 - val_loss: 0.3020 - val_accuracy: 0.8945\n",
      "Epoch 13/100\n",
      "32/32 [==============================] - 0s 4ms/step - loss: 0.3555 - accuracy: 0.8633 - val_loss: 0.2972 - val_accuracy: 0.8945\n",
      "Epoch 14/100\n",
      "32/32 [==============================] - 0s 4ms/step - loss: 0.3522 - accuracy: 0.8643 - val_loss: 0.2930 - val_accuracy: 0.8945\n",
      "Epoch 15/100\n",
      "32/32 [==============================] - 0s 4ms/step - loss: 0.3496 - accuracy: 0.8613 - val_loss: 0.2894 - val_accuracy: 0.8945\n",
      "Epoch 16/100\n",
      "32/32 [==============================] - 0s 4ms/step - loss: 0.3472 - accuracy: 0.8633 - val_loss: 0.2862 - val_accuracy: 0.8984\n",
      "Epoch 17/100\n",
      "32/32 [==============================] - 0s 4ms/step - loss: 0.3451 - accuracy: 0.8623 - val_loss: 0.2833 - val_accuracy: 0.9062\n",
      "Epoch 18/100\n",
      "32/32 [==============================] - 0s 3ms/step - loss: 0.3434 - accuracy: 0.8633 - val_loss: 0.2807 - val_accuracy: 0.9062\n",
      "Epoch 19/100\n",
      "32/32 [==============================] - 0s 4ms/step - loss: 0.3416 - accuracy: 0.8643 - val_loss: 0.2784 - val_accuracy: 0.9062\n",
      "Epoch 20/100\n",
      "32/32 [==============================] - 0s 4ms/step - loss: 0.3402 - accuracy: 0.8633 - val_loss: 0.2764 - val_accuracy: 0.9062\n",
      "Epoch 21/100\n",
      "32/32 [==============================] - 0s 3ms/step - loss: 0.3389 - accuracy: 0.8643 - val_loss: 0.2745 - val_accuracy: 0.9062\n",
      "Epoch 22/100\n",
      "32/32 [==============================] - 0s 4ms/step - loss: 0.3378 - accuracy: 0.8633 - val_loss: 0.2728 - val_accuracy: 0.9062\n",
      "Epoch 23/100\n",
      "32/32 [==============================] - 0s 3ms/step - loss: 0.3367 - accuracy: 0.8643 - val_loss: 0.2712 - val_accuracy: 0.9062\n",
      "Epoch 24/100\n",
      "32/32 [==============================] - 0s 3ms/step - loss: 0.3357 - accuracy: 0.8643 - val_loss: 0.2697 - val_accuracy: 0.9062\n",
      "Epoch 25/100\n",
      "32/32 [==============================] - 0s 4ms/step - loss: 0.3348 - accuracy: 0.8652 - val_loss: 0.2684 - val_accuracy: 0.9062\n",
      "Epoch 26/100\n",
      "32/32 [==============================] - 0s 5ms/step - loss: 0.3340 - accuracy: 0.8662 - val_loss: 0.2671 - val_accuracy: 0.9062\n",
      "Epoch 27/100\n",
      "32/32 [==============================] - 0s 4ms/step - loss: 0.3333 - accuracy: 0.8643 - val_loss: 0.2660 - val_accuracy: 0.9062\n",
      "Epoch 28/100\n",
      "32/32 [==============================] - 0s 4ms/step - loss: 0.3326 - accuracy: 0.8643 - val_loss: 0.2650 - val_accuracy: 0.9062\n",
      "Epoch 29/100\n",
      "32/32 [==============================] - 0s 4ms/step - loss: 0.3320 - accuracy: 0.8682 - val_loss: 0.2640 - val_accuracy: 0.9062\n",
      "Epoch 30/100\n",
      "32/32 [==============================] - 0s 4ms/step - loss: 0.3314 - accuracy: 0.8672 - val_loss: 0.2631 - val_accuracy: 0.9062\n",
      "Epoch 31/100\n",
      "32/32 [==============================] - 0s 4ms/step - loss: 0.3308 - accuracy: 0.8691 - val_loss: 0.2622 - val_accuracy: 0.9062\n",
      "Epoch 32/100\n",
      "32/32 [==============================] - 0s 4ms/step - loss: 0.3303 - accuracy: 0.8682 - val_loss: 0.2613 - val_accuracy: 0.9062\n",
      "Epoch 33/100\n",
      "32/32 [==============================] - 0s 4ms/step - loss: 0.3299 - accuracy: 0.8682 - val_loss: 0.2606 - val_accuracy: 0.9062\n",
      "Epoch 34/100\n",
      "32/32 [==============================] - 0s 4ms/step - loss: 0.3294 - accuracy: 0.8682 - val_loss: 0.2599 - val_accuracy: 0.9062\n",
      "Epoch 35/100\n",
      "32/32 [==============================] - 0s 4ms/step - loss: 0.3290 - accuracy: 0.8682 - val_loss: 0.2592 - val_accuracy: 0.9062\n",
      "Epoch 36/100\n",
      "32/32 [==============================] - 0s 4ms/step - loss: 0.3285 - accuracy: 0.8682 - val_loss: 0.2586 - val_accuracy: 0.9062\n",
      "Epoch 37/100\n",
      "32/32 [==============================] - 0s 3ms/step - loss: 0.3282 - accuracy: 0.8691 - val_loss: 0.2580 - val_accuracy: 0.9062\n",
      "Epoch 38/100\n",
      "32/32 [==============================] - 0s 3ms/step - loss: 0.3278 - accuracy: 0.8701 - val_loss: 0.2574 - val_accuracy: 0.9062\n",
      "Epoch 39/100\n",
      "32/32 [==============================] - 0s 3ms/step - loss: 0.3274 - accuracy: 0.8691 - val_loss: 0.2569 - val_accuracy: 0.9062\n",
      "Epoch 40/100\n",
      "32/32 [==============================] - 0s 4ms/step - loss: 0.3271 - accuracy: 0.8701 - val_loss: 0.2564 - val_accuracy: 0.9062\n",
      "Epoch 41/100\n",
      "32/32 [==============================] - 0s 3ms/step - loss: 0.3267 - accuracy: 0.8701 - val_loss: 0.2558 - val_accuracy: 0.9062\n",
      "Epoch 42/100\n",
      "32/32 [==============================] - 0s 3ms/step - loss: 0.3265 - accuracy: 0.8701 - val_loss: 0.2554 - val_accuracy: 0.9062\n",
      "Epoch 43/100\n",
      "32/32 [==============================] - 0s 3ms/step - loss: 0.3261 - accuracy: 0.8711 - val_loss: 0.2549 - val_accuracy: 0.9062\n",
      "Epoch 44/100\n",
      "32/32 [==============================] - 0s 4ms/step - loss: 0.3259 - accuracy: 0.8701 - val_loss: 0.2545 - val_accuracy: 0.9062\n",
      "Epoch 45/100\n",
      "32/32 [==============================] - 0s 4ms/step - loss: 0.3256 - accuracy: 0.8701 - val_loss: 0.2541 - val_accuracy: 0.9062\n",
      "Epoch 46/100\n",
      "32/32 [==============================] - 0s 4ms/step - loss: 0.3253 - accuracy: 0.8711 - val_loss: 0.2537 - val_accuracy: 0.9062\n",
      "Epoch 47/100\n",
      "32/32 [==============================] - 0s 3ms/step - loss: 0.3250 - accuracy: 0.8701 - val_loss: 0.2533 - val_accuracy: 0.9062\n",
      "Epoch 48/100\n",
      "32/32 [==============================] - 0s 4ms/step - loss: 0.3248 - accuracy: 0.8701 - val_loss: 0.2529 - val_accuracy: 0.9062\n",
      "Epoch 49/100\n",
      "32/32 [==============================] - 0s 4ms/step - loss: 0.3245 - accuracy: 0.8701 - val_loss: 0.2524 - val_accuracy: 0.9062\n",
      "Epoch 50/100\n",
      "32/32 [==============================] - 0s 3ms/step - loss: 0.3243 - accuracy: 0.8711 - val_loss: 0.2520 - val_accuracy: 0.9062\n",
      "Epoch 51/100\n",
      "32/32 [==============================] - 0s 4ms/step - loss: 0.3240 - accuracy: 0.8711 - val_loss: 0.2517 - val_accuracy: 0.9062\n",
      "Epoch 52/100\n",
      "32/32 [==============================] - 0s 4ms/step - loss: 0.3238 - accuracy: 0.8701 - val_loss: 0.2514 - val_accuracy: 0.9062\n",
      "Epoch 53/100\n",
      "32/32 [==============================] - 0s 4ms/step - loss: 0.3235 - accuracy: 0.8701 - val_loss: 0.2511 - val_accuracy: 0.9062\n",
      "Epoch 54/100\n",
      "32/32 [==============================] - 0s 4ms/step - loss: 0.3233 - accuracy: 0.8691 - val_loss: 0.2508 - val_accuracy: 0.9062\n",
      "Epoch 55/100\n",
      "32/32 [==============================] - 0s 4ms/step - loss: 0.3230 - accuracy: 0.8682 - val_loss: 0.2504 - val_accuracy: 0.9062\n",
      "Epoch 56/100\n",
      "32/32 [==============================] - 0s 3ms/step - loss: 0.3228 - accuracy: 0.8691 - val_loss: 0.2501 - val_accuracy: 0.9062\n",
      "Epoch 57/100\n",
      "32/32 [==============================] - 0s 4ms/step - loss: 0.3226 - accuracy: 0.8691 - val_loss: 0.2498 - val_accuracy: 0.9062\n",
      "Epoch 58/100\n",
      "32/32 [==============================] - 0s 4ms/step - loss: 0.3223 - accuracy: 0.8682 - val_loss: 0.2495 - val_accuracy: 0.9062\n",
      "Epoch 59/100\n",
      "32/32 [==============================] - 0s 4ms/step - loss: 0.3221 - accuracy: 0.8711 - val_loss: 0.2492 - val_accuracy: 0.9062\n",
      "Epoch 60/100\n",
      "32/32 [==============================] - 0s 4ms/step - loss: 0.3219 - accuracy: 0.8701 - val_loss: 0.2489 - val_accuracy: 0.9062\n",
      "Epoch 61/100\n",
      "32/32 [==============================] - 0s 4ms/step - loss: 0.3217 - accuracy: 0.8691 - val_loss: 0.2486 - val_accuracy: 0.9062\n",
      "Epoch 62/100\n",
      "32/32 [==============================] - 0s 3ms/step - loss: 0.3214 - accuracy: 0.8701 - val_loss: 0.2483 - val_accuracy: 0.9062\n",
      "Epoch 63/100\n",
      "32/32 [==============================] - 0s 3ms/step - loss: 0.3212 - accuracy: 0.8701 - val_loss: 0.2480 - val_accuracy: 0.9062\n",
      "Epoch 64/100\n",
      "32/32 [==============================] - 0s 4ms/step - loss: 0.3210 - accuracy: 0.8691 - val_loss: 0.2478 - val_accuracy: 0.9062\n",
      "Epoch 65/100\n",
      "32/32 [==============================] - 0s 3ms/step - loss: 0.3208 - accuracy: 0.8682 - val_loss: 0.2475 - val_accuracy: 0.9062\n",
      "Epoch 66/100\n",
      "32/32 [==============================] - 0s 3ms/step - loss: 0.3206 - accuracy: 0.8691 - val_loss: 0.2472 - val_accuracy: 0.9062\n",
      "Epoch 67/100\n",
      "32/32 [==============================] - 0s 4ms/step - loss: 0.3203 - accuracy: 0.8701 - val_loss: 0.2470 - val_accuracy: 0.9062\n",
      "Epoch 68/100\n",
      "32/32 [==============================] - 0s 4ms/step - loss: 0.3201 - accuracy: 0.8691 - val_loss: 0.2467 - val_accuracy: 0.9062\n",
      "Epoch 69/100\n",
      "32/32 [==============================] - 0s 3ms/step - loss: 0.3198 - accuracy: 0.8701 - val_loss: 0.2465 - val_accuracy: 0.9062\n",
      "Epoch 70/100\n",
      "32/32 [==============================] - 0s 4ms/step - loss: 0.3197 - accuracy: 0.8701 - val_loss: 0.2462 - val_accuracy: 0.9062\n",
      "Epoch 71/100\n",
      "32/32 [==============================] - 0s 3ms/step - loss: 0.3194 - accuracy: 0.8701 - val_loss: 0.2460 - val_accuracy: 0.9062\n",
      "Epoch 72/100\n",
      "32/32 [==============================] - 0s 5ms/step - loss: 0.3192 - accuracy: 0.8691 - val_loss: 0.2457 - val_accuracy: 0.9062\n",
      "Epoch 73/100\n",
      "32/32 [==============================] - 0s 3ms/step - loss: 0.3190 - accuracy: 0.8711 - val_loss: 0.2455 - val_accuracy: 0.9062\n",
      "Epoch 74/100\n",
      "32/32 [==============================] - 0s 3ms/step - loss: 0.3187 - accuracy: 0.8682 - val_loss: 0.2452 - val_accuracy: 0.9062\n",
      "Epoch 75/100\n",
      "32/32 [==============================] - 0s 3ms/step - loss: 0.3185 - accuracy: 0.8711 - val_loss: 0.2450 - val_accuracy: 0.9062\n",
      "Epoch 76/100\n",
      "32/32 [==============================] - 0s 4ms/step - loss: 0.3182 - accuracy: 0.8701 - val_loss: 0.2448 - val_accuracy: 0.9062\n",
      "Epoch 77/100\n",
      "32/32 [==============================] - 0s 4ms/step - loss: 0.3181 - accuracy: 0.8682 - val_loss: 0.2445 - val_accuracy: 0.9062\n",
      "Epoch 78/100\n",
      "32/32 [==============================] - 0s 3ms/step - loss: 0.3179 - accuracy: 0.8701 - val_loss: 0.2443 - val_accuracy: 0.9062\n",
      "Epoch 79/100\n",
      "32/32 [==============================] - 0s 4ms/step - loss: 0.3176 - accuracy: 0.8701 - val_loss: 0.2440 - val_accuracy: 0.9062\n",
      "Epoch 80/100\n",
      "32/32 [==============================] - 0s 4ms/step - loss: 0.3174 - accuracy: 0.8701 - val_loss: 0.2439 - val_accuracy: 0.9102\n",
      "Epoch 81/100\n",
      "32/32 [==============================] - 0s 3ms/step - loss: 0.3171 - accuracy: 0.8701 - val_loss: 0.2437 - val_accuracy: 0.9102\n",
      "Epoch 82/100\n",
      "32/32 [==============================] - 0s 3ms/step - loss: 0.3169 - accuracy: 0.8711 - val_loss: 0.2434 - val_accuracy: 0.9102\n",
      "Epoch 83/100\n",
      "32/32 [==============================] - 0s 4ms/step - loss: 0.3167 - accuracy: 0.8701 - val_loss: 0.2432 - val_accuracy: 0.9102\n",
      "Epoch 84/100\n",
      "32/32 [==============================] - 0s 4ms/step - loss: 0.3164 - accuracy: 0.8711 - val_loss: 0.2430 - val_accuracy: 0.9102\n",
      "Epoch 85/100\n",
      "32/32 [==============================] - 0s 4ms/step - loss: 0.3162 - accuracy: 0.8701 - val_loss: 0.2427 - val_accuracy: 0.9102\n",
      "Epoch 86/100\n",
      "32/32 [==============================] - 0s 4ms/step - loss: 0.3160 - accuracy: 0.8721 - val_loss: 0.2425 - val_accuracy: 0.9102\n",
      "Epoch 87/100\n",
      "32/32 [==============================] - 0s 5ms/step - loss: 0.3158 - accuracy: 0.8701 - val_loss: 0.2422 - val_accuracy: 0.9102\n",
      "Epoch 88/100\n",
      "32/32 [==============================] - 0s 3ms/step - loss: 0.3155 - accuracy: 0.8711 - val_loss: 0.2420 - val_accuracy: 0.9102\n",
      "Epoch 89/100\n",
      "32/32 [==============================] - 0s 4ms/step - loss: 0.3153 - accuracy: 0.8721 - val_loss: 0.2418 - val_accuracy: 0.9102\n",
      "Epoch 90/100\n",
      "32/32 [==============================] - 0s 4ms/step - loss: 0.3150 - accuracy: 0.8711 - val_loss: 0.2416 - val_accuracy: 0.9102\n",
      "Epoch 91/100\n",
      "32/32 [==============================] - 0s 4ms/step - loss: 0.3148 - accuracy: 0.8711 - val_loss: 0.2413 - val_accuracy: 0.9102\n",
      "Epoch 92/100\n",
      "32/32 [==============================] - 0s 4ms/step - loss: 0.3145 - accuracy: 0.8721 - val_loss: 0.2411 - val_accuracy: 0.9102\n",
      "Epoch 93/100\n",
      "32/32 [==============================] - 0s 4ms/step - loss: 0.3143 - accuracy: 0.8711 - val_loss: 0.2409 - val_accuracy: 0.9102\n",
      "Epoch 94/100\n",
      "32/32 [==============================] - 0s 4ms/step - loss: 0.3140 - accuracy: 0.8711 - val_loss: 0.2407 - val_accuracy: 0.9102\n",
      "Epoch 95/100\n",
      "32/32 [==============================] - 0s 4ms/step - loss: 0.3137 - accuracy: 0.8721 - val_loss: 0.2405 - val_accuracy: 0.9102\n",
      "Epoch 96/100\n",
      "32/32 [==============================] - 0s 4ms/step - loss: 0.3135 - accuracy: 0.8740 - val_loss: 0.2402 - val_accuracy: 0.9102\n",
      "Epoch 97/100\n",
      "32/32 [==============================] - 0s 4ms/step - loss: 0.3132 - accuracy: 0.8740 - val_loss: 0.2400 - val_accuracy: 0.9102\n",
      "Epoch 98/100\n",
      "32/32 [==============================] - 0s 4ms/step - loss: 0.3130 - accuracy: 0.8730 - val_loss: 0.2398 - val_accuracy: 0.9102\n",
      "Epoch 99/100\n",
      "32/32 [==============================] - 0s 3ms/step - loss: 0.3127 - accuracy: 0.8730 - val_loss: 0.2395 - val_accuracy: 0.9102\n",
      "Epoch 100/100\n",
      "32/32 [==============================] - 0s 4ms/step - loss: 0.3124 - accuracy: 0.8740 - val_loss: 0.2393 - val_accuracy: 0.9102\n"
     ]
    }
   ],
   "source": [
    "history=model.fit(X_train, y_train,\n",
    "          validation_data=[X_test, y_test],\n",
    "          epochs= EPOCHS\n",
    "          )"
   ]
  },
  {
   "cell_type": "markdown",
   "metadata": {},
   "source": [
    "## Evaluate the model\n",
    "In case we want to separately evaluate this model, we have `evaluate` function."
   ]
  },
  {
   "cell_type": "code",
   "execution_count": 56,
   "metadata": {},
   "outputs": [
    {
     "name": "stdout",
     "output_type": "stream",
     "text": [
      "8/8 - 0s - loss: 0.2393 - accuracy: 0.9102 - 40ms/epoch - 5ms/step\n"
     ]
    },
    {
     "data": {
      "text/plain": [
       "[0.2392815500497818, 0.91015625]"
      ]
     },
     "execution_count": 56,
     "metadata": {},
     "output_type": "execute_result"
    }
   ],
   "source": [
    "model.evaluate ( X_test,  y_test, verbose=2)"
   ]
  },
  {
   "cell_type": "code",
   "execution_count": 57,
   "metadata": {},
   "outputs": [
    {
     "data": {
      "text/html": [
       "<div>\n",
       "<style scoped>\n",
       "    .dataframe tbody tr th:only-of-type {\n",
       "        vertical-align: middle;\n",
       "    }\n",
       "\n",
       "    .dataframe tbody tr th {\n",
       "        vertical-align: top;\n",
       "    }\n",
       "\n",
       "    .dataframe thead th {\n",
       "        text-align: right;\n",
       "    }\n",
       "</style>\n",
       "<table border=\"1\" class=\"dataframe\">\n",
       "  <thead>\n",
       "    <tr style=\"text-align: right;\">\n",
       "      <th></th>\n",
       "      <th>loss</th>\n",
       "      <th>accuracy</th>\n",
       "      <th>val_loss</th>\n",
       "      <th>val_accuracy</th>\n",
       "    </tr>\n",
       "  </thead>\n",
       "  <tbody>\n",
       "    <tr>\n",
       "      <th>0</th>\n",
       "      <td>0.716582</td>\n",
       "      <td>0.567383</td>\n",
       "      <td>0.631271</td>\n",
       "      <td>0.734375</td>\n",
       "    </tr>\n",
       "    <tr>\n",
       "      <th>1</th>\n",
       "      <td>0.590908</td>\n",
       "      <td>0.767578</td>\n",
       "      <td>0.525296</td>\n",
       "      <td>0.843750</td>\n",
       "    </tr>\n",
       "    <tr>\n",
       "      <th>2</th>\n",
       "      <td>0.513716</td>\n",
       "      <td>0.836914</td>\n",
       "      <td>0.458028</td>\n",
       "      <td>0.878906</td>\n",
       "    </tr>\n",
       "    <tr>\n",
       "      <th>3</th>\n",
       "      <td>0.465108</td>\n",
       "      <td>0.855469</td>\n",
       "      <td>0.413839</td>\n",
       "      <td>0.894531</td>\n",
       "    </tr>\n",
       "    <tr>\n",
       "      <th>4</th>\n",
       "      <td>0.433394</td>\n",
       "      <td>0.863281</td>\n",
       "      <td>0.383297</td>\n",
       "      <td>0.902344</td>\n",
       "    </tr>\n",
       "  </tbody>\n",
       "</table>\n",
       "</div>"
      ],
      "text/plain": [
       "       loss  accuracy  val_loss  val_accuracy\n",
       "0  0.716582  0.567383  0.631271      0.734375\n",
       "1  0.590908  0.767578  0.525296      0.843750\n",
       "2  0.513716  0.836914  0.458028      0.878906\n",
       "3  0.465108  0.855469  0.413839      0.894531\n",
       "4  0.433394  0.863281  0.383297      0.902344"
      ]
     },
     "execution_count": 57,
     "metadata": {},
     "output_type": "execute_result"
    }
   ],
   "source": [
    "hist_df = pd.DataFrame(history.history)\n",
    "hist_df.head()"
   ]
  },
  {
   "cell_type": "code",
   "execution_count": 58,
   "metadata": {},
   "outputs": [
    {
     "data": {
      "image/png": "[encoded data removed]",
      "text/plain": [
       "<Figure size 1500x600 with 2 Axes>"
      ]
     },
     "metadata": {},
     "output_type": "display_data"
    }
   ],
   "source": [
    "fig, axes = plt.subplots(1,2 , figsize = (15,6))\n",
    "\n",
    "ax = axes[0]\n",
    "\n",
    "hist_df.plot(y = ['loss', 'val_loss'], ax = ax, colormap=CMAP)\n",
    "\n",
    "ax.set_xlabel(\"Epochs\")\n",
    "ax.set_ylabel('Loss')\n",
    "ax.set_title('Errors')\n",
    "ax.grid();\n",
    "ax = axes[1]\n",
    "\n",
    "hist_df.plot( y = ['accuracy', 'val_accuracy'], ax = ax, colormap=CMAP)\n",
    "\n",
    "ax.set_xlabel(\"Epochs\")\n",
    "ax.set_ylabel('Accuracy')\n",
    "ax.grid()\n",
    "ax.legend(loc = 'lower left')\n",
    "\n",
    "plt.tight_layout()"
   ]
  },
  {
   "cell_type": "markdown",
   "metadata": {},
   "source": [
    "## Predictions\n",
    "Build a prediction model using `tf.keras.Sequential` again and add `tf.keras.layers.Softmax` to model.\n",
    "\n",
    "Make predictions and print classification reports and confusion matrix."
   ]
  },
  {
   "cell_type": "code",
   "execution_count": 60,
   "metadata": {},
   "outputs": [],
   "source": [
    "prob_model = tf.keras.Sequential([\n",
    "    model,\n",
    "    tf.keras.layers.Softmax()\n",
    "\n",
    "])"
   ]
  },
  {
   "cell_type": "code",
   "execution_count": 61,
   "metadata": {},
   "outputs": [],
   "source": [
    "y_pred= prob_model(X_train)"
   ]
  },
  {
   "cell_type": "code",
   "execution_count": 62,
   "metadata": {},
   "outputs": [
    {
     "name": "stdout",
     "output_type": "stream",
     "text": [
      "              precision    recall  f1-score   support\n",
      "\n",
      "           0       0.88      0.87      0.87       512\n",
      "           1       0.87      0.88      0.87       512\n",
      "\n",
      "    accuracy                           0.87      1024\n",
      "   macro avg       0.87      0.87      0.87      1024\n",
      "weighted avg       0.87      0.87      0.87      1024\n",
      "\n"
     ]
    }
   ],
   "source": [
    "print(classification_report(y_train, np.argmax(y_pred, axis = 1)))"
   ]
  },
  {
   "cell_type": "code",
   "execution_count": 64,
   "metadata": {},
   "outputs": [
    {
     "name": "stdout",
     "output_type": "stream",
     "text": [
      "Accuracy score on Test Data :0.91016\n"
     ]
    }
   ],
   "source": [
    "y_pred = prob_model(X_test).numpy()\n",
    "\n",
    "print('Accuracy score on Test Data :{:.5f}'.format(accuracy_score(y_test, \n",
    "                                                                  np.argmax(y_pred, axis = 1))))"
   ]
  },
  {
   "cell_type": "code",
   "execution_count": 65,
   "metadata": {},
   "outputs": [
    {
     "name": "stdout",
     "output_type": "stream",
     "text": [
      "              precision    recall  f1-score   support\n",
      "\n",
      "           0       0.88      0.95      0.91       128\n",
      "           1       0.94      0.88      0.91       128\n",
      "\n",
      "    accuracy                           0.91       256\n",
      "   macro avg       0.91      0.91      0.91       256\n",
      "weighted avg       0.91      0.91      0.91       256\n",
      "\n"
     ]
    }
   ],
   "source": [
    "print(classification_report(y_test, \n",
    "                            np.argmax(y_pred, axis = 1)))"
   ]
  },
  {
   "cell_type": "code",
   "execution_count": 66,
   "metadata": {},
   "outputs": [
    {
     "data": {
      "image/png": "[encoded data removed]",
      "text/plain": [
       "<Figure size 400x400 with 1 Axes>"
      ]
     },
     "metadata": {},
     "output_type": "display_data"
    }
   ],
   "source": [
    "cm  = confusion_matrix(y_test, np.argmax(y_pred, axis = 1))\n",
    "\n",
    "disp = ConfusionMatrixDisplay(confusion_matrix=cm,\n",
    "                              display_labels=[0,1])\n",
    "\n",
    "fig, ax = plt.subplots(figsize = (4,4))\n",
    "\n",
    "disp.plot(ax = ax, cmap = 'Blues', xticks_rotation = 'vertical', colorbar=False)\n",
    "\n",
    "plt.show();"
   ]
  },
  {
   "cell_type": "code",
   "execution_count": 67,
   "metadata": {},
   "outputs": [
    {
     "data": {
      "text/html": [
       "<div>\n",
       "<style scoped>\n",
       "    .dataframe tbody tr th:only-of-type {\n",
       "        vertical-align: middle;\n",
       "    }\n",
       "\n",
       "    .dataframe tbody tr th {\n",
       "        vertical-align: top;\n",
       "    }\n",
       "\n",
       "    .dataframe thead th {\n",
       "        text-align: right;\n",
       "    }\n",
       "</style>\n",
       "<table border=\"1\" class=\"dataframe\">\n",
       "  <thead>\n",
       "    <tr style=\"text-align: right;\">\n",
       "      <th></th>\n",
       "      <th>loss</th>\n",
       "      <th>accuracy</th>\n",
       "      <th>val_loss</th>\n",
       "      <th>val_accuracy</th>\n",
       "    </tr>\n",
       "  </thead>\n",
       "  <tbody>\n",
       "    <tr>\n",
       "      <th>99</th>\n",
       "      <td>0.312427</td>\n",
       "      <td>0.874023</td>\n",
       "      <td>0.239282</td>\n",
       "      <td>0.910156</td>\n",
       "    </tr>\n",
       "  </tbody>\n",
       "</table>\n",
       "</div>"
      ],
      "text/plain": [
       "        loss  accuracy  val_loss  val_accuracy\n",
       "99  0.312427  0.874023  0.239282      0.910156"
      ]
     },
     "execution_count": 67,
     "metadata": {},
     "output_type": "execute_result"
    }
   ],
   "source": [
    "hist_df[hist_df['val_loss'] == hist_df['val_loss'].min()]"
   ]
  }
 ],
 "metadata": {
  "kernelspec": {
   "display_name": "Python 3 (ipykernel)",
   "language": "python",
   "name": "python3"
  },
  "language_info": {
   "codemirror_mode": {
    "name": "ipython",
    "version": 3
   },
   "file_extension": ".py",
   "mimetype": "text/x-python",
   "name": "python",
   "nbconvert_exporter": "python",
   "pygments_lexer": "ipython3",
   "version": "3.11.3"
  }
 },
 "nbformat": 4,
 "nbformat_minor": 4
}
